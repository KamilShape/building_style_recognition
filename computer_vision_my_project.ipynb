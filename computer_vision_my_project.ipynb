{
  "nbformat": 4,
  "nbformat_minor": 0,
  "metadata": {
    "colab": {
      "provenance": [],
      "authorship_tag": "ABX9TyOWkSEiE385GKujY/OIed0d",
      "include_colab_link": true
    },
    "kernelspec": {
      "name": "python3",
      "display_name": "Python 3"
    },
    "language_info": {
      "name": "python"
    },
    "accelerator": "GPU",
    "gpuClass": "standard"
  },
  "cells": [
    {
      "cell_type": "markdown",
      "metadata": {
        "id": "view-in-github",
        "colab_type": "text"
      },
      "source": [
        "<a href=\"https://colab.research.google.com/github/KamilShape/building_style_recognition/blob/main/computer_vision_my_project.ipynb\" target=\"_parent\"><img src=\"https://colab.research.google.com/assets/colab-badge.svg\" alt=\"Open In Colab\"/></a>"
      ]
    },
    {
      "cell_type": "code",
      "execution_count": 6,
      "metadata": {
        "id": "pOcy-dV0hrtu"
      },
      "outputs": [],
      "source": [
        "import requests\n",
        "from bs4 import BeautifulSoup\n",
        "from PIL import Image\n",
        "from io import BytesIO\n",
        "import random\n",
        "import os\n",
        "import numpy as np\n"
      ]
    },
    {
      "cell_type": "markdown",
      "source": [
        "### Connecting to google drive"
      ],
      "metadata": {
        "id": "iB8CWIiB_xj7"
      }
    },
    {
      "cell_type": "code",
      "source": [
        "from google.colab import drive\n",
        "drive.mount('/content/drive')"
      ],
      "metadata": {
        "colab": {
          "base_uri": "https://localhost:8080/"
        },
        "id": "HTXJhcKp_2Q7",
        "outputId": "ea3536cb-8c92-40e0-ef0c-5d14f2f25eee"
      },
      "execution_count": 9,
      "outputs": [
        {
          "output_type": "stream",
          "name": "stdout",
          "text": [
            "Mounted at /content/drive\n"
          ]
        }
      ]
    },
    {
      "cell_type": "markdown",
      "source": [
        "### Getting Images"
      ],
      "metadata": {
        "id": "asgOrPg4g_Rj"
      }
    },
    {
      "cell_type": "code",
      "source": [
        "styles = ['greek-architecture', 'gothic-architecture', 'baroque-architecture', 'victorian-architecture', 'modern architecture']"
      ],
      "metadata": {
        "id": "RvTWfqf6whjy"
      },
      "execution_count": 7,
      "outputs": []
    },
    {
      "cell_type": "code",
      "source": [
        "def parse_url(content):\n",
        "  soup = BeautifulSoup(content, 'html.parser')\n",
        "  imgs = soup.find_all('img', {'class': 'grid-image'})\n",
        "  return [img['src'] for img in imgs]"
      ],
      "metadata": {
        "id": "S5FxZwHfTLgu"
      },
      "execution_count": 8,
      "outputs": []
    },
    {
      "cell_type": "code",
      "source": [
        "def get_page(style, page):\n",
        "  for page in range(1, page + 1):\n",
        "    url = f'https://www.freeimages.com/search/{style}/{page}'\n",
        "    try:\n",
        "      response = requests.get(url)\n",
        "      content = response.content\n",
        "      return content\n",
        "    except:\n",
        "      print('Error! Wrong url.')"
      ],
      "metadata": {
        "id": "VzdRb7cjJHBR"
      },
      "execution_count": 10,
      "outputs": []
    },
    {
      "cell_type": "code",
      "source": [
        "def get_image(photo_url, path, file_name, style):\n",
        "  image_response = requests.get(photo_url)\n",
        "  image_content = image_response.content\n",
        "  img = Image.open(BytesIO(image_content))\n",
        "  # print(img.mode)\n",
        "  if img.mode == 'RGB':\n",
        "    os.makedirs(f'{path}/{style}', exist_ok=True)\n",
        "    img.save(f'{path}/{style}/{file_name}', 'png')"
      ],
      "metadata": {
        "id": "3U19Jh_KULat"
      },
      "execution_count": 11,
      "outputs": []
    },
    {
      "cell_type": "code",
      "source": [
        "train_path = 'drive/MyDrive/architecture_photos/data/train'"
      ],
      "metadata": {
        "id": "CdoRW2NFLt8p"
      },
      "execution_count": 12,
      "outputs": []
    },
    {
      "cell_type": "code",
      "source": [
        "def get_photos(style, page, path):\n",
        "  content = get_page(style, page)\n",
        "  images = parse_url(content)\n",
        "  for image in images:\n",
        "    if len(image) > 5:\n",
        "      file_name = image.split('/')[-1]\n",
        "      get_image(image, train_path, file_name, style)\n"
      ],
      "metadata": {
        "id": "_fvJULIfLAMk"
      },
      "execution_count": 13,
      "outputs": []
    },
    {
      "cell_type": "code",
      "source": [
        "#DOWNLOADING ALL PHOTOS\n",
        "for style in styles:\n",
        "  get_photos(style, 10, train_path)"
      ],
      "metadata": {
        "id": "a7vfIKfKMwuv"
      },
      "execution_count": 100,
      "outputs": []
    },
    {
      "cell_type": "markdown",
      "source": [
        "### Test and train data sets"
      ],
      "metadata": {
        "id": "WYTn-dWl8Sx7"
      }
    },
    {
      "cell_type": "code",
      "source": [
        "test_path = 'drive/MyDrive/architecture_photos/data/test'"
      ],
      "metadata": {
        "id": "e9xptSeJaT3F"
      },
      "execution_count": 3,
      "outputs": []
    },
    {
      "cell_type": "code",
      "source": [
        "os.makedirs(f'{test_path}')"
      ],
      "metadata": {
        "id": "kQMrM4gs9neC"
      },
      "execution_count": null,
      "outputs": []
    },
    {
      "cell_type": "code",
      "source": [
        "def create_test_set(styles, train_path, test_path, set_size):\n",
        "  for style in styles:\n",
        "    files_folder = os.listdir(f'{train_path}/{style}')\n",
        "    for n in range(0, round(len(files_folder)*set_size)+1):\n",
        "      files_folder = os.listdir(f'{train_path}/{style}')\n",
        "      photo_number = np.random.randint(len(files_folder))\n",
        "      os.makedirs(f'{test_path}/{style}', exist_ok=True)\n",
        "      os.replace(f'{train_path}/{style}/{files_folder[photo_number]}', f'{test_path}/{style}/{files_folder[photo_number]}')"
      ],
      "metadata": {
        "id": "i0gntixDMWRQ"
      },
      "execution_count": 5,
      "outputs": []
    },
    {
      "cell_type": "code",
      "source": [
        "create_test_set(styles, train_path, test_path, 0.15)"
      ],
      "metadata": {
        "id": "bevPviRJ8cQi"
      },
      "execution_count": 105,
      "outputs": []
    },
    {
      "cell_type": "markdown",
      "source": [
        "Model "
      ],
      "metadata": {
        "id": "BYnt8poeiGTE"
      }
    },
    {
      "cell_type": "code",
      "source": [
        "from tensorflow.keras.models import Sequential\n",
        "from tensorflow.keras import layers\n",
        "from tensorflow import keras"
      ],
      "metadata": {
        "id": "kqbGuKcYjPAS"
      },
      "execution_count": 14,
      "outputs": []
    },
    {
      "cell_type": "code",
      "source": [
        "img_height = 128\n",
        "img_width = 128\n",
        "batch_size = 8"
      ],
      "metadata": {
        "id": "9QNowU9LiZVZ"
      },
      "execution_count": 15,
      "outputs": []
    },
    {
      "cell_type": "code",
      "source": [
        "train_ds = keras.utils.image_dataset_from_directory(\n",
        "    train_path,\n",
        "    validation_split = 0.1,\n",
        "    seed=0,\n",
        "    subset='training',\n",
        "    image_size = (img_height, img_width),\n",
        "    batch_size = batch_size,\n",
        "    label_mode = 'categorical')\n",
        "\n",
        "val_ds = keras.utils.image_dataset_from_directory(\n",
        "    train_path,\n",
        "    validation_split = 0.1,\n",
        "    seed=0,\n",
        "    subset='validation',\n",
        "    image_size = (img_height, img_width),\n",
        "    batch_size = batch_size,\n",
        "    label_mode = 'categorical')"
      ],
      "metadata": {
        "colab": {
          "base_uri": "https://localhost:8080/"
        },
        "id": "ap_J-rIDinCe",
        "outputId": "0cc82f18-39c4-4df3-acf1-866b04e022d7"
      },
      "execution_count": 16,
      "outputs": [
        {
          "output_type": "stream",
          "name": "stdout",
          "text": [
            "Found 214 files belonging to 5 classes.\n",
            "Using 193 files for training.\n",
            "Found 214 files belonging to 5 classes.\n",
            "Using 21 files for validation.\n"
          ]
        }
      ]
    },
    {
      "cell_type": "code",
      "source": [
        "model = Sequential()\n",
        "model.add(layers.Rescaling(1./255))\n",
        "model.add(layers.Conv2D(32, (3,3), input_shape = (img_width, img_height, 3), padding='same', activation='relu'))\n",
        "model.add(layers.MaxPool2D((2,2)))\n",
        "model.add(layers.Conv2D(16, (3,3), padding='same', activation='relu'))\n",
        "model.add(layers.MaxPool2D((2,2)))\n",
        "model.add(layers.Flatten())\n",
        "model.add(layers.Dense(128, activation='relu'))\n",
        "model.add(layers.Dense(5, activation='softmax'))"
      ],
      "metadata": {
        "id": "XXxlNZ73jINb"
      },
      "execution_count": 22,
      "outputs": []
    },
    {
      "cell_type": "code",
      "source": [
        "model.compile(optimizer='adam',\n",
        "              loss='categorical_crossentropy',\n",
        "              metrics = ['accuracy'])"
      ],
      "metadata": {
        "id": "SDhzQcoyktI8"
      },
      "execution_count": 23,
      "outputs": []
    },
    {
      "cell_type": "code",
      "source": [
        "history = model.fit(\n",
        "    train_ds,\n",
        "    validation_data = val_ds,\n",
        "    epochs = 10,\n",
        "    batch_size = batch_size\n",
        ")"
      ],
      "metadata": {
        "colab": {
          "base_uri": "https://localhost:8080/"
        },
        "id": "alSTJAjmkul6",
        "outputId": "be8d2049-2578-4713-93cc-021b11606210"
      },
      "execution_count": 24,
      "outputs": [
        {
          "output_type": "stream",
          "name": "stdout",
          "text": [
            "Epoch 1/10\n",
            "25/25 [==============================] - 39s 752ms/step - loss: 1.6606 - accuracy: 0.1762 - val_loss: 1.6090 - val_accuracy: 0.1429\n",
            "Epoch 2/10\n",
            "25/25 [==============================] - 0s 15ms/step - loss: 1.5840 - accuracy: 0.3264 - val_loss: 1.5205 - val_accuracy: 0.3333\n",
            "Epoch 3/10\n",
            "25/25 [==============================] - 0s 16ms/step - loss: 1.3811 - accuracy: 0.5233 - val_loss: 1.6644 - val_accuracy: 0.1905\n",
            "Epoch 4/10\n",
            "25/25 [==============================] - 0s 15ms/step - loss: 0.8406 - accuracy: 0.7306 - val_loss: 1.5997 - val_accuracy: 0.3333\n",
            "Epoch 5/10\n",
            "25/25 [==============================] - 0s 15ms/step - loss: 0.4325 - accuracy: 0.8860 - val_loss: 1.4691 - val_accuracy: 0.3810\n",
            "Epoch 6/10\n",
            "25/25 [==============================] - 0s 15ms/step - loss: 0.2668 - accuracy: 0.9119 - val_loss: 2.0257 - val_accuracy: 0.2857\n",
            "Epoch 7/10\n",
            "25/25 [==============================] - 0s 15ms/step - loss: 0.1375 - accuracy: 0.9689 - val_loss: 2.9946 - val_accuracy: 0.3333\n",
            "Epoch 8/10\n",
            "25/25 [==============================] - 0s 15ms/step - loss: 0.1230 - accuracy: 0.9741 - val_loss: 1.7918 - val_accuracy: 0.2381\n",
            "Epoch 9/10\n",
            "25/25 [==============================] - 0s 15ms/step - loss: 0.0935 - accuracy: 0.9793 - val_loss: 2.0766 - val_accuracy: 0.3333\n",
            "Epoch 10/10\n",
            "25/25 [==============================] - 0s 15ms/step - loss: 0.0622 - accuracy: 0.9793 - val_loss: 2.2956 - val_accuracy: 0.2857\n"
          ]
        }
      ]
    }
  ]
}