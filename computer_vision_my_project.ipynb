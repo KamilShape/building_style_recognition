{
  "nbformat": 4,
  "nbformat_minor": 0,
  "metadata": {
    "colab": {
      "provenance": [],
      "authorship_tag": "ABX9TyOYUbEe1gkm4qCIzb3O9hT1",
      "include_colab_link": true
    },
    "kernelspec": {
      "name": "python3",
      "display_name": "Python 3"
    },
    "language_info": {
      "name": "python"
    },
    "accelerator": "GPU",
    "gpuClass": "standard"
  },
  "cells": [
    {
      "cell_type": "markdown",
      "metadata": {
        "id": "view-in-github",
        "colab_type": "text"
      },
      "source": [
        "<a href=\"https://colab.research.google.com/github/KamilShape/building_style_recognition/blob/main/computer_vision_my_project.ipynb\" target=\"_parent\"><img src=\"https://colab.research.google.com/assets/colab-badge.svg\" alt=\"Open In Colab\"/></a>"
      ]
    },
    {
      "cell_type": "code",
      "execution_count": null,
      "metadata": {
        "id": "pOcy-dV0hrtu"
      },
      "outputs": [],
      "source": [
        "import requests\n",
        "from bs4 import BeautifulSoup\n",
        "from PIL import Image\n",
        "from io import BytesIO\n",
        "import random\n",
        "import os\n",
        "import numpy as np"
      ]
    },
    {
      "cell_type": "markdown",
      "source": [
        "### Connecting to google drive"
      ],
      "metadata": {
        "id": "iB8CWIiB_xj7"
      }
    },
    {
      "cell_type": "code",
      "source": [
        "from google.colab import drive\n",
        "drive.mount('/content/drive')"
      ],
      "metadata": {
        "colab": {
          "base_uri": "https://localhost:8080/"
        },
        "id": "HTXJhcKp_2Q7",
        "outputId": "e611f0e5-2ab4-4173-81a2-0d1e5e6af685"
      },
      "execution_count": null,
      "outputs": [
        {
          "output_type": "stream",
          "name": "stdout",
          "text": [
            "Drive already mounted at /content/drive; to attempt to forcibly remount, call drive.mount(\"/content/drive\", force_remount=True).\n"
          ]
        }
      ]
    },
    {
      "cell_type": "markdown",
      "source": [
        "### Getting Images"
      ],
      "metadata": {
        "id": "asgOrPg4g_Rj"
      }
    },
    {
      "cell_type": "code",
      "source": [
        "styles = ['greek-architecture', 'gothic-architecture', 'baroque-architecture', 'victorian-architecture', 'modern architecture']"
      ],
      "metadata": {
        "id": "RvTWfqf6whjy"
      },
      "execution_count": null,
      "outputs": []
    },
    {
      "cell_type": "code",
      "source": [
        "def parse_url(content):\n",
        "  soup = BeautifulSoup(content, 'html.parser')\n",
        "  imgs = soup.find_all('img', {'class': 'grid-image'})\n",
        "  return [img['src'] for img in imgs]"
      ],
      "metadata": {
        "id": "S5FxZwHfTLgu"
      },
      "execution_count": null,
      "outputs": []
    },
    {
      "cell_type": "code",
      "source": [
        "def get_page(style, page):\n",
        "  for page in range(1, page + 1):\n",
        "    url = f'https://www.freeimages.com/search/{style}/{page}'\n",
        "    try:\n",
        "      response = requests.get(url)\n",
        "      content = response.content\n",
        "      return content\n",
        "    except:\n",
        "      print('Error! Wrong url.')"
      ],
      "metadata": {
        "id": "VzdRb7cjJHBR"
      },
      "execution_count": null,
      "outputs": []
    },
    {
      "cell_type": "code",
      "source": [
        "def get_image(photo_url, path, file_name, style):\n",
        "  image_response = requests.get(photo_url)\n",
        "  image_content = image_response.content\n",
        "  img = Image.open(BytesIO(image_content))\n",
        "  # print(img.mode)\n",
        "  if img.mode == 'RGB':\n",
        "    os.makedirs(f'{path}/{style}', exist_ok=True)\n",
        "    img.save(f'{path}/{style}/{file_name}', 'png')"
      ],
      "metadata": {
        "id": "3U19Jh_KULat"
      },
      "execution_count": null,
      "outputs": []
    },
    {
      "cell_type": "code",
      "source": [
        "train_path = 'drive/MyDrive/architecture_photos/data/train'"
      ],
      "metadata": {
        "id": "CdoRW2NFLt8p"
      },
      "execution_count": 81,
      "outputs": []
    },
    {
      "cell_type": "code",
      "source": [
        "def get_photos(style, page, path):\n",
        "  content = get_page(style, page)\n",
        "  images = parse_url(content)\n",
        "  for image in images:\n",
        "    if len(image) > 5:\n",
        "      file_name = image.split('/')[-1]\n",
        "      get_image(image, train_path, file_name, style)\n"
      ],
      "metadata": {
        "id": "_fvJULIfLAMk"
      },
      "execution_count": 84,
      "outputs": []
    },
    {
      "cell_type": "code",
      "source": [
        "#DOWNLOADING ALL PHOTOS\n",
        "for style in styles:\n",
        "  get_photos(style, 10, train_path)"
      ],
      "metadata": {
        "id": "a7vfIKfKMwuv"
      },
      "execution_count": 85,
      "outputs": []
    },
    {
      "cell_type": "markdown",
      "source": [
        "### Test and train data sets"
      ],
      "metadata": {
        "id": "WYTn-dWl8Sx7"
      }
    },
    {
      "cell_type": "code",
      "source": [
        "test_path = 'drive/MyDrive/architecture_photos/data/test'"
      ],
      "metadata": {
        "id": "e9xptSeJaT3F"
      },
      "execution_count": 86,
      "outputs": []
    },
    {
      "cell_type": "code",
      "source": [
        "os.makedirs(f'{test_path}')"
      ],
      "metadata": {
        "id": "kQMrM4gs9neC"
      },
      "execution_count": 87,
      "outputs": []
    },
    {
      "cell_type": "code",
      "source": [
        "def create_test_set(styles, train_path, test_path, set_size):\n",
        "  for style in styles:\n",
        "    files_folder = os.listdir(f'{train_path}/{style}')\n",
        "    for n in range(0, round(len(files_folder)*set_size)+1):\n",
        "      files_folder = os.listdir(f'{train_path}/{style}')\n",
        "      photo_number = np.random.randint(len(files_folder))\n",
        "      os.makedirs(f'{test_path}/{style}', exist_ok=True)\n",
        "      os.replace(f'{train_path}/{style}/{files_folder[photo_number]}', f'{test_path}/{style}/{files_folder[photo_number]}')"
      ],
      "metadata": {
        "id": "i0gntixDMWRQ"
      },
      "execution_count": 93,
      "outputs": []
    },
    {
      "cell_type": "code",
      "source": [
        "create_test_set(styles, train_path, test_path, 0.15)"
      ],
      "metadata": {
        "id": "bevPviRJ8cQi"
      },
      "execution_count": 94,
      "outputs": []
    }
  ]
}