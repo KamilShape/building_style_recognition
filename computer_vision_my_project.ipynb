{
  "nbformat": 4,
  "nbformat_minor": 0,
  "metadata": {
    "colab": {
      "provenance": [],
      "authorship_tag": "ABX9TyPcuqDqPPoYuPNzp5l3bc5N",
      "include_colab_link": true
    },
    "kernelspec": {
      "name": "python3",
      "display_name": "Python 3"
    },
    "language_info": {
      "name": "python"
    },
    "accelerator": "GPU",
    "gpuClass": "standard"
  },
  "cells": [
    {
      "cell_type": "markdown",
      "metadata": {
        "id": "view-in-github",
        "colab_type": "text"
      },
      "source": [
        "<a href=\"https://colab.research.google.com/github/KamilShape/building_style_recognition/blob/main/computer_vision_my_project.ipynb\" target=\"_parent\"><img src=\"https://colab.research.google.com/assets/colab-badge.svg\" alt=\"Open In Colab\"/></a>"
      ]
    },
    {
      "cell_type": "code",
      "execution_count": 22,
      "metadata": {
        "id": "pOcy-dV0hrtu"
      },
      "outputs": [],
      "source": [
        "import requests\n",
        "from bs4 import BeautifulSoup\n",
        "from PIL import Image\n",
        "from io import BytesIO\n",
        "import random\n",
        "import os\n",
        "import numpy as np"
      ]
    },
    {
      "cell_type": "markdown",
      "source": [
        "### Connecting to google drive"
      ],
      "metadata": {
        "id": "iB8CWIiB_xj7"
      }
    },
    {
      "cell_type": "code",
      "source": [
        "from google.colab import drive\n",
        "drive.mount('/content/drive')"
      ],
      "metadata": {
        "colab": {
          "base_uri": "https://localhost:8080/"
        },
        "id": "HTXJhcKp_2Q7",
        "outputId": "994ae12d-9459-44c7-fbff-86a01699a6c0"
      },
      "execution_count": 1,
      "outputs": [
        {
          "output_type": "stream",
          "name": "stdout",
          "text": [
            "Mounted at /content/drive\n"
          ]
        }
      ]
    },
    {
      "cell_type": "markdown",
      "source": [
        "### Getting Images"
      ],
      "metadata": {
        "id": "asgOrPg4g_Rj"
      }
    },
    {
      "cell_type": "code",
      "source": [
        "styles = ['greek-architecture', 'gothic-architecture', 'baroque-architecture', 'victorian-architecture', 'modern architecture']"
      ],
      "metadata": {
        "id": "RvTWfqf6whjy"
      },
      "execution_count": 7,
      "outputs": []
    },
    {
      "cell_type": "code",
      "source": [
        "def parse_url(content):\n",
        "  soup = BeautifulSoup(content, 'html.parser')\n",
        "  imgs = soup.find_all('img', {'class': 'grid-image'})\n",
        "  return [img['src'] for img in imgs]"
      ],
      "metadata": {
        "id": "S5FxZwHfTLgu"
      },
      "execution_count": null,
      "outputs": []
    },
    {
      "cell_type": "code",
      "source": [
        "def get_page(style, page):\n",
        "  for page in range(1, page + 1):\n",
        "    url = f'https://www.freeimages.com/search/{style}/{page}'\n",
        "    try:\n",
        "      response = requests.get(url)\n",
        "      content = response.content\n",
        "      return content\n",
        "    except:\n",
        "      print('Error! Wrong url.')"
      ],
      "metadata": {
        "id": "VzdRb7cjJHBR"
      },
      "execution_count": null,
      "outputs": []
    },
    {
      "cell_type": "code",
      "source": [
        "def get_image(photo_url, path, file_name, style):\n",
        "  image_response = requests.get(photo_url)\n",
        "  image_content = image_response.content\n",
        "  img = Image.open(BytesIO(image_content))\n",
        "  # print(img.mode)\n",
        "  if img.mode == 'RGB':\n",
        "    os.makedirs(f'{path}/{style}', exist_ok=True)\n",
        "    img.save(f'{path}/{style}/{file_name}', 'png')"
      ],
      "metadata": {
        "id": "3U19Jh_KULat"
      },
      "execution_count": null,
      "outputs": []
    },
    {
      "cell_type": "code",
      "source": [
        "drive_path = 'drive/MyDrive/architecture_photos/data'"
      ],
      "metadata": {
        "id": "CdoRW2NFLt8p"
      },
      "execution_count": 2,
      "outputs": []
    },
    {
      "cell_type": "code",
      "source": [
        "def get_photos(style, page, path):\n",
        "  content = get_page(style, page)\n",
        "  images = parse_url(content)\n",
        "  for image in images:\n",
        "    if len(image) > 5:\n",
        "      file_name = image.split('/')[-1]\n",
        "      get_image(image, drive_path, file_name, style)\n"
      ],
      "metadata": {
        "id": "_fvJULIfLAMk"
      },
      "execution_count": null,
      "outputs": []
    },
    {
      "cell_type": "code",
      "source": [
        "#DOWNLOADING ALL PHOTOS\n",
        "for style in styles:\n",
        "  get_photos(style, 6, drive_path)"
      ],
      "metadata": {
        "id": "a7vfIKfKMwuv"
      },
      "execution_count": null,
      "outputs": []
    },
    {
      "cell_type": "code",
      "source": [
        "for style in styles:\n",
        "  print(style, len(os.listdir(f'drive/MyDrive/architecture_photos/data/{style}')))"
      ],
      "metadata": {
        "id": "HHxb-6YVXNhE",
        "colab": {
          "base_uri": "https://localhost:8080/"
        },
        "outputId": "7c91a7cf-6329-4678-96a9-4d1bb0fe1239"
      },
      "execution_count": null,
      "outputs": [
        {
          "output_type": "stream",
          "name": "stdout",
          "text": [
            "greek-architecture 59\n",
            "gothic-architecture 58\n",
            "baroque-architecture 60\n",
            "victorian-architecture 60\n",
            "modern architecture 58\n"
          ]
        }
      ]
    },
    {
      "cell_type": "markdown",
      "source": [
        "### Test and train data bases"
      ],
      "metadata": {
        "id": "WYTn-dWl8Sx7"
      }
    },
    {
      "cell_type": "code",
      "source": [
        "#creating test and train folders\n",
        "os.makedirs(f'{drive_path}/test')\n",
        "os.makedirs(f'{drive_path}/train')"
      ],
      "metadata": {
        "id": "kQMrM4gs9neC"
      },
      "execution_count": 5,
      "outputs": []
    },
    {
      "cell_type": "code",
      "source": [
        "test_size = 0.15\n",
        "for style in styles:\n",
        "  for n in range(0, round(len(folder_files)*0.15)+1):\n",
        "    folder_files = os.listdir(f'drive/MyDrive/architecture_photos/data/{style}')\n",
        "    random_number = np.random.randint(len(folder_files)+1)\n",
        "    print(random_number)\n",
        "    os.makedirs(f'{drive_path}/test/{style}', exist_ok=True)\n",
        "    os.replace(f'{drive_path}/{style}/{folder_files[random_number]}', f'{drive_path}/test/{style}/{folder_files[random_number]}' )\n",
        "  \n",
        "  "
      ],
      "metadata": {
        "colab": {
          "base_uri": "https://localhost:8080/"
        },
        "id": "bevPviRJ8cQi",
        "outputId": "95a0b423-4c68-4642-e535-ba795d551614"
      },
      "execution_count": 34,
      "outputs": [
        {
          "output_type": "stream",
          "name": "stdout",
          "text": [
            "43\n",
            "36\n",
            "11\n",
            "29\n",
            "15\n",
            "3\n",
            "11\n",
            "8\n",
            "25\n",
            "5\n",
            "--------\n",
            "7\n",
            "38\n",
            "54\n",
            "14\n",
            "32\n",
            "6\n",
            "4\n",
            "28\n",
            "--------\n",
            "4\n",
            "2\n",
            "52\n",
            "22\n",
            "27\n",
            "14\n",
            "42\n",
            "8\n",
            "41\n",
            "--------\n",
            "42\n",
            "25\n",
            "20\n",
            "23\n",
            "1\n",
            "14\n",
            "23\n",
            "30\n",
            "47\n",
            "--------\n",
            "33\n",
            "47\n",
            "32\n",
            "23\n",
            "41\n",
            "51\n",
            "10\n",
            "48\n",
            "39\n",
            "--------\n"
          ]
        }
      ]
    }
  ]
}